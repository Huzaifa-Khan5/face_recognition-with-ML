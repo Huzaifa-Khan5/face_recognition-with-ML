{
 "cells": [
  {
   "cell_type": "code",
   "execution_count": 1,
   "metadata": {},
   "outputs": [],
   "source": [
    "import numpy as np\n",
    "import cv2\n",
    "import os\n",
    "import pywt\n",
    "\n",
    "from sklearn.svm import SVC\n",
    "from sklearn.preprocessing import StandardScaler\n",
    "from sklearn.model_selection import train_test_split\n",
    "from sklearn import svm\n",
    "from sklearn.ensemble import RandomForestClassifier\n",
    "from sklearn.linear_model import LogisticRegression\n",
    "from sklearn.pipeline import make_pipeline\n",
    "from sklearn.model_selection import GridSearchCV\n",
    "import joblib\n",
    "import json "
   ]
  },
  {
   "cell_type": "code",
   "execution_count": 2,
   "metadata": {},
   "outputs": [],
   "source": [
    "face_cascade=cv2.CascadeClassifier('./opencv/haarcascades/haarcascade_frontalface_default.xml')\n",
    "eye_cascade = cv2.CascadeClassifier('./opencv/haarcascades/haarcascade_eye.xml')"
   ]
  },
  {
   "cell_type": "code",
   "execution_count": 3,
   "metadata": {},
   "outputs": [
    {
     "data": {
      "text/plain": [
       "['./dataset/cropped/huzaifa',\n",
       " './dataset/cropped/kawish',\n",
       " './dataset/cropped/ubaid',\n",
       " './dataset/cropped/unknown']"
      ]
     },
     "execution_count": 3,
     "metadata": {},
     "output_type": "execute_result"
    }
   ],
   "source": [
    "img_dirs = []\n",
    "for entry in os.scandir(\"./dataset/cropped/\"):\n",
    "    if entry.is_dir():\n",
    "        img_dirs.append(entry.path)\n",
    "img_dirs"
   ]
  },
  {
   "cell_type": "code",
   "execution_count": 4,
   "metadata": {},
   "outputs": [
    {
     "data": {
      "text/plain": [
       "{'huzaifa': ['./dataset/cropped/huzaifa\\\\huzaifa1.png',\n",
       "  './dataset/cropped/huzaifa\\\\huzaifa10.png',\n",
       "  './dataset/cropped/huzaifa\\\\huzaifa11.png',\n",
       "  './dataset/cropped/huzaifa\\\\huzaifa12.png',\n",
       "  './dataset/cropped/huzaifa\\\\huzaifa13.png',\n",
       "  './dataset/cropped/huzaifa\\\\huzaifa14.png',\n",
       "  './dataset/cropped/huzaifa\\\\huzaifa15.png',\n",
       "  './dataset/cropped/huzaifa\\\\huzaifa16.png',\n",
       "  './dataset/cropped/huzaifa\\\\huzaifa17.png',\n",
       "  './dataset/cropped/huzaifa\\\\huzaifa18.png',\n",
       "  './dataset/cropped/huzaifa\\\\huzaifa19.png',\n",
       "  './dataset/cropped/huzaifa\\\\huzaifa2.png',\n",
       "  './dataset/cropped/huzaifa\\\\huzaifa20.png',\n",
       "  './dataset/cropped/huzaifa\\\\huzaifa21.png',\n",
       "  './dataset/cropped/huzaifa\\\\huzaifa22.png',\n",
       "  './dataset/cropped/huzaifa\\\\huzaifa23.png',\n",
       "  './dataset/cropped/huzaifa\\\\huzaifa24.png',\n",
       "  './dataset/cropped/huzaifa\\\\huzaifa25.png',\n",
       "  './dataset/cropped/huzaifa\\\\huzaifa26.png',\n",
       "  './dataset/cropped/huzaifa\\\\huzaifa27.png',\n",
       "  './dataset/cropped/huzaifa\\\\huzaifa28.png',\n",
       "  './dataset/cropped/huzaifa\\\\huzaifa29.png',\n",
       "  './dataset/cropped/huzaifa\\\\huzaifa3.png',\n",
       "  './dataset/cropped/huzaifa\\\\huzaifa30.png',\n",
       "  './dataset/cropped/huzaifa\\\\huzaifa31.png',\n",
       "  './dataset/cropped/huzaifa\\\\huzaifa32.png',\n",
       "  './dataset/cropped/huzaifa\\\\huzaifa33.png',\n",
       "  './dataset/cropped/huzaifa\\\\huzaifa34.png',\n",
       "  './dataset/cropped/huzaifa\\\\huzaifa35.png',\n",
       "  './dataset/cropped/huzaifa\\\\huzaifa36.png',\n",
       "  './dataset/cropped/huzaifa\\\\huzaifa37.png',\n",
       "  './dataset/cropped/huzaifa\\\\huzaifa38.png',\n",
       "  './dataset/cropped/huzaifa\\\\huzaifa39.png',\n",
       "  './dataset/cropped/huzaifa\\\\huzaifa4.png',\n",
       "  './dataset/cropped/huzaifa\\\\huzaifa40.png',\n",
       "  './dataset/cropped/huzaifa\\\\huzaifa41.png',\n",
       "  './dataset/cropped/huzaifa\\\\huzaifa42.png',\n",
       "  './dataset/cropped/huzaifa\\\\huzaifa43.png',\n",
       "  './dataset/cropped/huzaifa\\\\huzaifa44.png',\n",
       "  './dataset/cropped/huzaifa\\\\huzaifa45.png',\n",
       "  './dataset/cropped/huzaifa\\\\huzaifa46.png',\n",
       "  './dataset/cropped/huzaifa\\\\huzaifa5.png',\n",
       "  './dataset/cropped/huzaifa\\\\huzaifa6.png',\n",
       "  './dataset/cropped/huzaifa\\\\huzaifa7.png',\n",
       "  './dataset/cropped/huzaifa\\\\huzaifa8.png',\n",
       "  './dataset/cropped/huzaifa\\\\huzaifa9.png'],\n",
       " 'kawish': ['./dataset/cropped/kawish\\\\kawish1.png',\n",
       "  './dataset/cropped/kawish\\\\kawish10.png',\n",
       "  './dataset/cropped/kawish\\\\kawish11.png',\n",
       "  './dataset/cropped/kawish\\\\kawish12.png',\n",
       "  './dataset/cropped/kawish\\\\kawish13.png',\n",
       "  './dataset/cropped/kawish\\\\kawish14.png',\n",
       "  './dataset/cropped/kawish\\\\kawish15.png',\n",
       "  './dataset/cropped/kawish\\\\kawish16.png',\n",
       "  './dataset/cropped/kawish\\\\kawish17.png',\n",
       "  './dataset/cropped/kawish\\\\kawish18.png',\n",
       "  './dataset/cropped/kawish\\\\kawish19.png',\n",
       "  './dataset/cropped/kawish\\\\kawish2.png',\n",
       "  './dataset/cropped/kawish\\\\kawish20.png',\n",
       "  './dataset/cropped/kawish\\\\kawish21.png',\n",
       "  './dataset/cropped/kawish\\\\kawish22.png',\n",
       "  './dataset/cropped/kawish\\\\kawish23.png',\n",
       "  './dataset/cropped/kawish\\\\kawish24.png',\n",
       "  './dataset/cropped/kawish\\\\kawish25.png',\n",
       "  './dataset/cropped/kawish\\\\kawish26.png',\n",
       "  './dataset/cropped/kawish\\\\kawish27.png',\n",
       "  './dataset/cropped/kawish\\\\kawish28.png',\n",
       "  './dataset/cropped/kawish\\\\kawish29.png',\n",
       "  './dataset/cropped/kawish\\\\kawish3.png',\n",
       "  './dataset/cropped/kawish\\\\kawish30.png',\n",
       "  './dataset/cropped/kawish\\\\kawish31.png',\n",
       "  './dataset/cropped/kawish\\\\kawish32.png',\n",
       "  './dataset/cropped/kawish\\\\kawish33.png',\n",
       "  './dataset/cropped/kawish\\\\kawish34.png',\n",
       "  './dataset/cropped/kawish\\\\kawish35.png',\n",
       "  './dataset/cropped/kawish\\\\kawish36.png',\n",
       "  './dataset/cropped/kawish\\\\kawish37.png',\n",
       "  './dataset/cropped/kawish\\\\kawish38.png',\n",
       "  './dataset/cropped/kawish\\\\kawish39.png',\n",
       "  './dataset/cropped/kawish\\\\kawish4.png',\n",
       "  './dataset/cropped/kawish\\\\kawish40.png',\n",
       "  './dataset/cropped/kawish\\\\kawish41.png',\n",
       "  './dataset/cropped/kawish\\\\kawish42.png',\n",
       "  './dataset/cropped/kawish\\\\kawish5.png',\n",
       "  './dataset/cropped/kawish\\\\kawish6.png',\n",
       "  './dataset/cropped/kawish\\\\kawish7.png',\n",
       "  './dataset/cropped/kawish\\\\kawish8.png',\n",
       "  './dataset/cropped/kawish\\\\kawish9.png'],\n",
       " 'ubaid': ['./dataset/cropped/ubaid\\\\ubaid1.JPG',\n",
       "  './dataset/cropped/ubaid\\\\ubaid10.JPG',\n",
       "  './dataset/cropped/ubaid\\\\ubaid11.JPG',\n",
       "  './dataset/cropped/ubaid\\\\ubaid12.JPG',\n",
       "  './dataset/cropped/ubaid\\\\ubaid13.JPG',\n",
       "  './dataset/cropped/ubaid\\\\ubaid14.JPG',\n",
       "  './dataset/cropped/ubaid\\\\ubaid15.JPG',\n",
       "  './dataset/cropped/ubaid\\\\ubaid16.JPG',\n",
       "  './dataset/cropped/ubaid\\\\ubaid17.JPG',\n",
       "  './dataset/cropped/ubaid\\\\ubaid18.JPG',\n",
       "  './dataset/cropped/ubaid\\\\ubaid19.JPG',\n",
       "  './dataset/cropped/ubaid\\\\ubaid2.JPG',\n",
       "  './dataset/cropped/ubaid\\\\ubaid20.JPG',\n",
       "  './dataset/cropped/ubaid\\\\ubaid21.JPG',\n",
       "  './dataset/cropped/ubaid\\\\ubaid22.JPG',\n",
       "  './dataset/cropped/ubaid\\\\ubaid23.JPG',\n",
       "  './dataset/cropped/ubaid\\\\ubaid24.JPG',\n",
       "  './dataset/cropped/ubaid\\\\ubaid25.JPG',\n",
       "  './dataset/cropped/ubaid\\\\ubaid26.JPG',\n",
       "  './dataset/cropped/ubaid\\\\ubaid27.JPG',\n",
       "  './dataset/cropped/ubaid\\\\ubaid28.JPG',\n",
       "  './dataset/cropped/ubaid\\\\ubaid29.JPG',\n",
       "  './dataset/cropped/ubaid\\\\ubaid3.JPG',\n",
       "  './dataset/cropped/ubaid\\\\ubaid30.JPG',\n",
       "  './dataset/cropped/ubaid\\\\ubaid31.JPG',\n",
       "  './dataset/cropped/ubaid\\\\ubaid32.JPG',\n",
       "  './dataset/cropped/ubaid\\\\ubaid33.JPG',\n",
       "  './dataset/cropped/ubaid\\\\ubaid34.JPG',\n",
       "  './dataset/cropped/ubaid\\\\ubaid35.JPG',\n",
       "  './dataset/cropped/ubaid\\\\ubaid36.JPG',\n",
       "  './dataset/cropped/ubaid\\\\ubaid37.JPG',\n",
       "  './dataset/cropped/ubaid\\\\ubaid38.JPG',\n",
       "  './dataset/cropped/ubaid\\\\ubaid39.JPG',\n",
       "  './dataset/cropped/ubaid\\\\ubaid4.JPG',\n",
       "  './dataset/cropped/ubaid\\\\ubaid40.JPG',\n",
       "  './dataset/cropped/ubaid\\\\ubaid41.JPG',\n",
       "  './dataset/cropped/ubaid\\\\ubaid42.JPG',\n",
       "  './dataset/cropped/ubaid\\\\ubaid5.JPG',\n",
       "  './dataset/cropped/ubaid\\\\ubaid6.JPG',\n",
       "  './dataset/cropped/ubaid\\\\ubaid7.JPG',\n",
       "  './dataset/cropped/ubaid\\\\ubaid8.JPG',\n",
       "  './dataset/cropped/ubaid\\\\ubaid9.JPG'],\n",
       " 'unknown': ['./dataset/cropped/unknown\\\\Unknown1.JPG',\n",
       "  './dataset/cropped/unknown\\\\Unknown10.png',\n",
       "  './dataset/cropped/unknown\\\\Unknown11.png',\n",
       "  './dataset/cropped/unknown\\\\Unknown12.png',\n",
       "  './dataset/cropped/unknown\\\\Unknown14.png',\n",
       "  './dataset/cropped/unknown\\\\Unknown15.png',\n",
       "  './dataset/cropped/unknown\\\\Unknown16.png',\n",
       "  './dataset/cropped/unknown\\\\Unknown17.png',\n",
       "  './dataset/cropped/unknown\\\\Unknown18.png',\n",
       "  './dataset/cropped/unknown\\\\Unknown19.png',\n",
       "  './dataset/cropped/unknown\\\\Unknown2.JPG',\n",
       "  './dataset/cropped/unknown\\\\Unknown20.png',\n",
       "  './dataset/cropped/unknown\\\\Unknown21.png',\n",
       "  './dataset/cropped/unknown\\\\Unknown22.png',\n",
       "  './dataset/cropped/unknown\\\\Unknown23.png',\n",
       "  './dataset/cropped/unknown\\\\Unknown24.png',\n",
       "  './dataset/cropped/unknown\\\\Unknown25.png',\n",
       "  './dataset/cropped/unknown\\\\Unknown26.png',\n",
       "  './dataset/cropped/unknown\\\\Unknown27.png',\n",
       "  './dataset/cropped/unknown\\\\Unknown28.png',\n",
       "  './dataset/cropped/unknown\\\\Unknown29.png',\n",
       "  './dataset/cropped/unknown\\\\Unknown3.JPG',\n",
       "  './dataset/cropped/unknown\\\\Unknown30.png',\n",
       "  './dataset/cropped/unknown\\\\Unknown31.png',\n",
       "  './dataset/cropped/unknown\\\\Unknown32.png',\n",
       "  './dataset/cropped/unknown\\\\Unknown33.png',\n",
       "  './dataset/cropped/unknown\\\\Unknown34.png',\n",
       "  './dataset/cropped/unknown\\\\Unknown35.png',\n",
       "  './dataset/cropped/unknown\\\\Unknown36.png',\n",
       "  './dataset/cropped/unknown\\\\Unknown37.png',\n",
       "  './dataset/cropped/unknown\\\\Unknown38.png',\n",
       "  './dataset/cropped/unknown\\\\Unknown39.png',\n",
       "  './dataset/cropped/unknown\\\\Unknown4.png',\n",
       "  './dataset/cropped/unknown\\\\Unknown40.png',\n",
       "  './dataset/cropped/unknown\\\\Unknown41.png',\n",
       "  './dataset/cropped/unknown\\\\Unknown42.png',\n",
       "  './dataset/cropped/unknown\\\\Unknown43.png',\n",
       "  './dataset/cropped/unknown\\\\Unknown44.png',\n",
       "  './dataset/cropped/unknown\\\\Unknown45.png',\n",
       "  './dataset/cropped/unknown\\\\Unknown46.png',\n",
       "  './dataset/cropped/unknown\\\\Unknown47.png',\n",
       "  './dataset/cropped/unknown\\\\unknown49.png',\n",
       "  './dataset/cropped/unknown\\\\Unknown5.png',\n",
       "  './dataset/cropped/unknown\\\\unknown50.png',\n",
       "  './dataset/cropped/unknown\\\\Unknown51.JPG',\n",
       "  './dataset/cropped/unknown\\\\Unknown52.JPG',\n",
       "  './dataset/cropped/unknown\\\\Unknown53.JPG',\n",
       "  './dataset/cropped/unknown\\\\Unknown54.JPG',\n",
       "  './dataset/cropped/unknown\\\\Unknown55.JPG',\n",
       "  './dataset/cropped/unknown\\\\Unknown56.JPG',\n",
       "  './dataset/cropped/unknown\\\\Unknown57.JPG',\n",
       "  './dataset/cropped/unknown\\\\Unknown58.JPG',\n",
       "  './dataset/cropped/unknown\\\\Unknown59.JPG',\n",
       "  './dataset/cropped/unknown\\\\Unknown6.png',\n",
       "  './dataset/cropped/unknown\\\\Unknown7.png',\n",
       "  './dataset/cropped/unknown\\\\Unknown8.png',\n",
       "  './dataset/cropped/unknown\\\\Unknown9.png']}"
      ]
     },
     "execution_count": 4,
     "metadata": {},
     "output_type": "execute_result"
    }
   ],
   "source": [
    "celebrity_file_names_dict = {}\n",
    "for img_dir in img_dirs:\n",
    "    celebrity_name = img_dir.split('/')[-1]\n",
    "    file_list = []\n",
    "    for entry in os.scandir(img_dir):\n",
    "        file_list.append(entry.path)\n",
    "    celebrity_file_names_dict[celebrity_name] = file_list\n",
    "celebrity_file_names_dict"
   ]
  },
  {
   "cell_type": "code",
   "execution_count": 5,
   "metadata": {},
   "outputs": [
    {
     "data": {
      "text/plain": [
       "{'huzaifa': 0, 'kawish': 1, 'ubaid': 2, 'unknown': 3}"
      ]
     },
     "execution_count": 5,
     "metadata": {},
     "output_type": "execute_result"
    }
   ],
   "source": [
    "class_dict = {}\n",
    "count = 0\n",
    "for celebrity_name in celebrity_file_names_dict.keys():\n",
    "    class_dict[celebrity_name] = count\n",
    "    count = count + 1\n",
    "class_dict"
   ]
  },
  {
   "cell_type": "code",
   "execution_count": 6,
   "metadata": {},
   "outputs": [],
   "source": [
    "def w2d(img, mode='haar', level=1):\n",
    "    imArray = img\n",
    "    #Datatype conversions\n",
    "    #convert to grayscale\n",
    "    imArray = cv2.cvtColor( imArray,cv2.COLOR_RGB2GRAY )\n",
    "    #convert to float\n",
    "    imArray =  np.float32(imArray)   \n",
    "    imArray /= 255\n",
    "    # compute coefficients \n",
    "    coeffs=pywt.wavedec2(imArray, mode, level=level)\n",
    "\n",
    "    #Process Coefficients\n",
    "    coeffs_H=list(coeffs)  \n",
    "    coeffs_H[0] *= 0;  \n",
    "\n",
    "    # reconstruction\n",
    "    imArray_H=pywt.waverec2(coeffs_H, mode);\n",
    "    imArray_H *= 255\n",
    "    imArray_H =  np.uint8(imArray_H)\n",
    "\n",
    "    return imArray_H"
   ]
  },
  {
   "cell_type": "code",
   "execution_count": 7,
   "metadata": {},
   "outputs": [],
   "source": [
    "X, y = [], []\n",
    "for celebrity_name, training_files in celebrity_file_names_dict.items():\n",
    "    for training_image in training_files:\n",
    "        img = cv2.imread(training_image)\n",
    "        scalled_raw_img = cv2.resize(img, (32, 32))\n",
    "        img_har = w2d(img,'db1',5)\n",
    "        scalled_img_har = cv2.resize(img_har, (32, 32))\n",
    "        combined_img = np.vstack((scalled_raw_img.reshape(32*32*3,1),scalled_img_har.reshape(32*32,1)))\n",
    "        X.append(combined_img)\n",
    "        y.append(class_dict[celebrity_name])"
   ]
  },
  {
   "cell_type": "code",
   "execution_count": 8,
   "metadata": {},
   "outputs": [
    {
     "data": {
      "text/plain": [
       "(187, 4096)"
      ]
     },
     "execution_count": 8,
     "metadata": {},
     "output_type": "execute_result"
    }
   ],
   "source": [
    "X = np.array(X).reshape(len(X),4096).astype(float)\n",
    "X.shape"
   ]
  },
  {
   "cell_type": "code",
   "execution_count": 15,
   "metadata": {},
   "outputs": [],
   "source": [
    "X_train, X_test, y_train, y_test = train_test_split(X, y, random_state=42)"
   ]
  },
  {
   "cell_type": "code",
   "execution_count": 16,
   "metadata": {},
   "outputs": [],
   "source": [
    "model_params = {\n",
    "    'svm': {\n",
    "        'model': svm.SVC(gamma='auto',probability=True),\n",
    "        'params' : {\n",
    "            'svc__C': [1,10,100,1000],\n",
    "            'svc__kernel': ['rbf','linear']\n",
    "        }  \n",
    "    },\n",
    "    'random_forest': {\n",
    "        'model': RandomForestClassifier(),\n",
    "        'params' : {\n",
    "            'randomforestclassifier__n_estimators': [1,5,10]\n",
    "        }\n",
    "    },\n",
    "    'logistic_regression' : {\n",
    "        'model': LogisticRegression(solver='liblinear',multi_class='auto'),\n",
    "        'params': {\n",
    "            'logisticregression__C': [1,5,10]\n",
    "        }\n",
    "    }\n",
    "}"
   ]
  },
  {
   "cell_type": "code",
   "execution_count": 17,
   "metadata": {},
   "outputs": [
    {
     "data": {
      "text/html": [
       "<div>\n",
       "<style scoped>\n",
       "    .dataframe tbody tr th:only-of-type {\n",
       "        vertical-align: middle;\n",
       "    }\n",
       "\n",
       "    .dataframe tbody tr th {\n",
       "        vertical-align: top;\n",
       "    }\n",
       "\n",
       "    .dataframe thead th {\n",
       "        text-align: right;\n",
       "    }\n",
       "</style>\n",
       "<table border=\"1\" class=\"dataframe\">\n",
       "  <thead>\n",
       "    <tr style=\"text-align: right;\">\n",
       "      <th></th>\n",
       "      <th>model</th>\n",
       "      <th>best_score</th>\n",
       "      <th>best_params</th>\n",
       "    </tr>\n",
       "  </thead>\n",
       "  <tbody>\n",
       "    <tr>\n",
       "      <th>0</th>\n",
       "      <td>svm</td>\n",
       "      <td>0.850000</td>\n",
       "      <td>{'svc__C': 1, 'svc__kernel': 'linear'}</td>\n",
       "    </tr>\n",
       "    <tr>\n",
       "      <th>1</th>\n",
       "      <td>random_forest</td>\n",
       "      <td>0.685714</td>\n",
       "      <td>{'randomforestclassifier__n_estimators': 10}</td>\n",
       "    </tr>\n",
       "    <tr>\n",
       "      <th>2</th>\n",
       "      <td>logistic_regression</td>\n",
       "      <td>0.828571</td>\n",
       "      <td>{'logisticregression__C': 1}</td>\n",
       "    </tr>\n",
       "  </tbody>\n",
       "</table>\n",
       "</div>"
      ],
      "text/plain": [
       "                 model  best_score  \\\n",
       "0                  svm    0.850000   \n",
       "1        random_forest    0.685714   \n",
       "2  logistic_regression    0.828571   \n",
       "\n",
       "                                    best_params  \n",
       "0        {'svc__C': 1, 'svc__kernel': 'linear'}  \n",
       "1  {'randomforestclassifier__n_estimators': 10}  \n",
       "2                  {'logisticregression__C': 1}  "
      ]
     },
     "execution_count": 17,
     "metadata": {},
     "output_type": "execute_result"
    }
   ],
   "source": [
    "scores = []\n",
    "best_estimators = {}\n",
    "import pandas as pd\n",
    "for algo, mp in model_params.items():\n",
    "    pipe = make_pipeline(StandardScaler(), mp['model'])\n",
    "    clf =  GridSearchCV(pipe, mp['params'], cv=5, return_train_score=False)\n",
    "    clf.fit(X_train, y_train)\n",
    "    scores.append({\n",
    "        'model': algo,\n",
    "        'best_score': clf.best_score_,\n",
    "        'best_params': clf.best_params_\n",
    "    })\n",
    "    best_estimators[algo] = clf.best_estimator_\n",
    "    \n",
    "df = pd.DataFrame(scores,columns=['model','best_score','best_params'])\n",
    "df"
   ]
  },
  {
   "cell_type": "code",
   "execution_count": 18,
   "metadata": {},
   "outputs": [
    {
     "data": {
      "text/plain": [
       "0.8936170212765957"
      ]
     },
     "execution_count": 18,
     "metadata": {},
     "output_type": "execute_result"
    }
   ],
   "source": [
    "best_estimators['svm'].score(X_test,y_test)"
   ]
  },
  {
   "cell_type": "code",
   "execution_count": 19,
   "metadata": {},
   "outputs": [
    {
     "data": {
      "text/plain": [
       "0.7659574468085106"
      ]
     },
     "execution_count": 19,
     "metadata": {},
     "output_type": "execute_result"
    }
   ],
   "source": [
    "best_estimators['random_forest'].score(X_test,y_test)"
   ]
  },
  {
   "cell_type": "code",
   "execution_count": 20,
   "metadata": {},
   "outputs": [
    {
     "data": {
      "text/plain": [
       "0.8936170212765957"
      ]
     },
     "execution_count": 20,
     "metadata": {},
     "output_type": "execute_result"
    }
   ],
   "source": [
    "best_estimators['logistic_regression'].score(X_test,y_test)"
   ]
  },
  {
   "cell_type": "code",
   "execution_count": 35,
   "metadata": {},
   "outputs": [],
   "source": [
    "best_clf = best_estimators['logistic_regression']"
   ]
  },
  {
   "cell_type": "code",
   "execution_count": 36,
   "metadata": {},
   "outputs": [
    {
     "data": {
      "text/plain": [
       "['pehchan2.pkl']"
      ]
     },
     "execution_count": 36,
     "metadata": {},
     "output_type": "execute_result"
    }
   ],
   "source": [
    "joblib.dump(best_clf, 'pehchan2.pkl')"
   ]
  },
  {
   "cell_type": "code",
   "execution_count": 23,
   "metadata": {},
   "outputs": [],
   "source": [
    "with open(\"class_dictionary.json\",\"w\") as f:\n",
    "    f.write(json.dumps(class_dict))"
   ]
  },
  {
   "cell_type": "code",
   "execution_count": 37,
   "metadata": {},
   "outputs": [
    {
     "data": {
      "text/plain": [
       "array([[12,  1,  1,  0],\n",
       "       [ 0,  8,  1,  0],\n",
       "       [ 0,  0,  7,  1],\n",
       "       [ 0,  1,  0, 15]], dtype=int64)"
      ]
     },
     "execution_count": 37,
     "metadata": {},
     "output_type": "execute_result"
    }
   ],
   "source": [
    "from sklearn.metrics import confusion_matrix\n",
    "cm = confusion_matrix(y_test, best_clf.predict(X_test))\n",
    "cm"
   ]
  },
  {
   "cell_type": "code",
   "execution_count": 38,
   "metadata": {},
   "outputs": [
    {
     "data": {
      "text/plain": [
       "Text(69.0, 0.5, 'Truth')"
      ]
     },
     "execution_count": 38,
     "metadata": {},
     "output_type": "execute_result"
    },
    {
     "data": {
      "image/png": "[encoded data removed]",
      "text/plain": [
       "<Figure size 720x504 with 2 Axes>"
      ]
     },
     "metadata": {
      "needs_background": "light"
     },
     "output_type": "display_data"
    }
   ],
   "source": [
    "import seaborn as sn\n",
    "from matplotlib import pyplot as plt\n",
    "plt.figure(figsize = (10,7))\n",
    "sn.heatmap(cm, annot=True)\n",
    "plt.xlabel('Predicted')\n",
    "plt.ylabel('Truth')"
   ]
  }
 ],
 "metadata": {
  "kernelspec": {
   "display_name": "Python 3.10.4 64-bit",
   "language": "python",
   "name": "python3"
  },
  "language_info": {
   "codemirror_mode": {
    "name": "ipython",
    "version": 3
   },
   "file_extension": ".py",
   "mimetype": "text/x-python",
   "name": "python",
   "nbconvert_exporter": "python",
   "pygments_lexer": "ipython3",
   "version": "3.10.4"
  },
  "orig_nbformat": 4,
  "vscode": {
   "interpreter": {
    "hash": "fbc768028c3e6ead51d9a200ddcb2ec858ae62844dcd1994729a8279be9b48f2"
   }
  }
 },
 "nbformat": 4,
 "nbformat_minor": 2
}
